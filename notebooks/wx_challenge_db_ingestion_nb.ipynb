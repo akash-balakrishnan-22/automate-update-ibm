{
 "cells": [
  {
   "cell_type": "code",
   "execution_count": 2,
   "metadata": {},
   "outputs": [],
   "source": [
    "import pickle\n",
    "\n",
    "# open a file, where you stored the pickled data\n",
    "file = open('../data/notebook_chunks_v4.pkl', 'rb')\n",
    "\n",
    "# dump information to that file\n",
    "data = pickle.load(file)\n",
    "\n",
    "# close the file\n",
    "file.close()"
   ]
  },
  {
   "cell_type": "code",
   "execution_count": 3,
   "metadata": {},
   "outputs": [],
   "source": [
    "keys = list(data.keys())"
   ]
  },
  {
   "cell_type": "code",
   "execution_count": 4,
   "metadata": {},
   "outputs": [
    {
     "data": {
      "text/plain": [
       "['from ibm_watsonx_ai.metanames import GenTextParamsMetaNames as GenParams',\n",
       " 'from ibm_watsonx_ai.foundation_models import ModelInference',\n",
       " 'import os',\n",
       " 'from ibm_watsonx_ai.foundation_models import get_model_specs',\n",
       " 'import getpass',\n",
       " 'from ibm_watsonx_ai.foundation_models.utils.enums import DecodingMethods']"
      ]
     },
     "execution_count": 4,
     "metadata": {},
     "output_type": "execute_result"
    }
   ],
   "source": [
    "# data[keys[0]][7].metadata[\"python_code\"]\n",
    "data[keys[0]][7].metadata[\"import_statements\"]"
   ]
  },
  {
   "cell_type": "code",
   "execution_count": 5,
   "metadata": {},
   "outputs": [],
   "source": [
    "# from dotenv import load_dotenv\n",
    "\n",
    "# from genai import Client, Credentials\n",
    "# from genai.extensions.langchain import LangChainEmbeddingsInterface\n",
    "# from genai.schema import TextEmbeddingParameters\n",
    "\n",
    "# # make sure you have a .env file under genai root with\n",
    "# # GENAI_KEY=<your-genai-key>\n",
    "# # GENAI_API=<genai-api-endpoint> (optional) DEFAULT_API = \"https://bam-api.res.ibm.com\"\n",
    "# load_dotenv()\n",
    "\n",
    "\n",
    "def heading(text: str) -> str:\n",
    "    \"\"\"Helper function for centering text.\"\"\"\n",
    "    return \"\\n\" + f\" {text} \".center(80, \"=\") + \"\\n\"\n",
    "\n",
    "\n",
    "client = Client(credentials=Credentials.from_env())\n",
    "embeddings = LangChainEmbeddingsInterface(\n",
    "    client=client,\n",
    "    model_id=\"baai/bge-large-en-v1.5\",\n",
    "    parameters=TextEmbeddingParameters(truncate_input_tokens=True),\n",
    ")\n"
   ]
  },
  {
   "cell_type": "code",
   "execution_count": 6,
   "metadata": {},
   "outputs": [],
   "source": [
    "import chromadb\n",
    "from langchain_chroma import Chroma\n",
    "from langchain_core.documents import Document"
   ]
  },
  {
   "cell_type": "code",
   "execution_count": 7,
   "metadata": {},
   "outputs": [],
   "source": [
    "vectorstore1 = Chroma(\n",
    "    collection_name=\"code_summary\",\n",
    "    embedding_function=embeddings,\n",
    "    persist_directory='navigator_db'\n",
    ")\n",
    "vectorstore2 = Chroma(\n",
    "    collection_name=\"notebook_summary\",\n",
    "    embedding_function=embeddings,\n",
    "    persist_directory='navigator_db'\n",
    ")"
   ]
  },
  {
   "cell_type": "code",
   "execution_count": 9,
   "metadata": {},
   "outputs": [
    {
     "name": "stderr",
     "output_type": "stream",
     "text": [
      "  0%|          | 0/1 [00:00<?, ?it/s]"
     ]
    },
    {
     "name": "stdout",
     "output_type": "stream",
     "text": [
      "/Users/gautam/Code/WatsonX_Foundations/wx-challenge-24/notebook-navigator/ipynb_files/Use watsonx, and `granite-20b-multilingual` to support multiple languages translation.ipynb\n"
     ]
    },
    {
     "name": "stderr",
     "output_type": "stream",
     "text": [
      "100%|██████████| 1/1 [00:27<00:00, 27.01s/it]\n"
     ]
    }
   ],
   "source": [
    "# from tqdm import tqdm\n",
    "# code_summary_doc = []\n",
    "# notebook_summary_doc = []\n",
    "# for key in tqdm(keys[:1]):\n",
    "#     print(key)\n",
    "#     for doc in data[key]:\n",
    "#         try:\n",
    "#             code = doc.metadata[\"python_code\"]\n",
    "\n",
    "#             if code!=\"\":\n",
    "#                 vectorstore1.add_documents([Document(page_content=doc.page_content, metadata={'cell_title':doc.metadata['cell_title'], 'cell_number':doc.metadata['cell_number'], 'product':doc.metadata['product'], 'version':doc.metadata[\"version\"], 'repository_name':doc.metadata['repository_name'], 'notebook_name':doc.metadata['notebook_name'], 'notebook_fullpath':doc.metadata['notebook_fullpath'], 'python_code':doc.metadata['python_code'], 'code_with_description':doc.metadata['code_with_description'], 'import_statements':'\\n'.join(doc.metadata['import_statements']), 'notebook_summary':doc.metadata['notebook_summary']})])\n",
    "#             else:\n",
    "#                 vectorstore2.add_documents([Document(page_content=doc.page_content, metadata={'cell_title':doc.metadata['cell_title'], 'cell_number':doc.metadata['cell_number'], 'product':doc.metadata['product'], 'version':doc.metadata[\"version\"], 'repository_name':doc.metadata['repository_name'], 'notebook_name':doc.metadata['notebook_name'], 'notebook_fullpath':doc.metadata['notebook_fullpath'], 'python_code':doc.metadata['python_code'], 'code_with_description':doc.metadata['code_with_description'], 'import_statements':'\\n'.join(doc.metadata['import_statements']), 'notebook_summary':doc.metadata['notebook_summary']})])\n",
    "#         except Exception as e:\n",
    "#             print(e)\n",
    "#             print(doc)\n",
    "\n",
    "    \n",
    "    "
   ]
  },
  {
   "cell_type": "code",
   "execution_count": 11,
   "metadata": {},
   "outputs": [],
   "source": [
    "docs = vectorstore1.similarity_search(\"hello\")"
   ]
  },
  {
   "cell_type": "code",
   "execution_count": 12,
   "metadata": {},
   "outputs": [
    {
     "data": {
      "text/plain": [
       "[Document(metadata={'cell_number': 13, 'cell_title': 'Initialize the model', 'code_with_description': 'Initialize the `Model` class with previous set params.  \\n```python\\nfrom ibm_watsonx_ai.foundation_models import ModelInference\\n\\nmodel = ModelInference(\\nmodel_id=model_id,\\nparams=parameters,\\ncredentials=credentials,\\nproject_id=project_id)\\n```', 'import_statements': 'from ibm_watsonx_ai.metanames import GenTextParamsMetaNames as GenParams\\nfrom ibm_watsonx_ai.foundation_models import ModelInference\\nimport os\\nfrom ibm_watsonx_ai.foundation_models import get_model_specs\\nimport getpass\\nfrom ibm_watsonx_ai.foundation_models.utils.enums import DecodingMethods', 'notebook_fullpath': 'https://github.com/IBM/watson-machine-learning-samples/blob/master/cloud/notebooks/python_sdk/deployments/foundation_models/Use watsonx, and `granite-20b-multilingual` to support multiple languages translation.ipynb', 'notebook_name': 'Use watsonx, and `granite-20b-multilingual` to support multiple languages translation.ipynb', 'notebook_summary': 'This Jupyter notebook demonstrates how to translate multiple languages using the IBM `granite-20b-multilingual` model on the Watsonx platform. The primary objective is to provide a step-by-step guide on translating text based on user queries, utilizing the capabilities of the IBM model that supports English, German, Spanish, French, and Portuguese languages. The notebook covers setting up the environment and showcasing foundation models on Watsonx, followed by the actual translation process and a summary of the implemented functionality.', 'product': 'watsonx.ai', 'python_code': 'from ibm_watsonx_ai.foundation_models import ModelInference\\n\\nmodel = ModelInference(\\nmodel_id=model_id,\\nparams=parameters,\\ncredentials=credentials,\\nproject_id=project_id)', 'repository_name': 'watson-machine-learning-samples', 'version': 'cloud'}, page_content='This code initializes an instance of the `ModelInference` class with specified model ID, parameters, credentials, and project ID.'),\n",
       " Document(metadata={'cell_number': 17, 'cell_title': 'Translation result', 'code_with_description': '```python\\nprint(translation_result)\\n```  \\nOutput: Estoy muy contento de ver que la resolución conjunta adopta la sugerencia que hicimos.', 'import_statements': 'from ibm_watsonx_ai.metanames import GenTextParamsMetaNames as GenParams\\nfrom ibm_watsonx_ai.foundation_models import ModelInference\\nimport os\\nfrom ibm_watsonx_ai.foundation_models import get_model_specs\\nimport getpass\\nfrom ibm_watsonx_ai.foundation_models.utils.enums import DecodingMethods', 'notebook_fullpath': 'https://github.com/IBM/watson-machine-learning-samples/blob/master/cloud/notebooks/python_sdk/deployments/foundation_models/Use watsonx, and `granite-20b-multilingual` to support multiple languages translation.ipynb', 'notebook_name': 'Use watsonx, and `granite-20b-multilingual` to support multiple languages translation.ipynb', 'notebook_summary': 'This Jupyter notebook demonstrates how to translate multiple languages using the IBM `granite-20b-multilingual` model on the Watsonx platform. The primary objective is to provide a step-by-step guide on translating text based on user queries, utilizing the capabilities of the IBM model that supports English, German, Spanish, French, and Portuguese languages. The notebook covers setting up the environment and showcasing foundation models on Watsonx, followed by the actual translation process and a summary of the implemented functionality.', 'product': 'watsonx.ai', 'python_code': 'print(translation_result)', 'repository_name': 'watson-machine-learning-samples', 'version': 'cloud'}, page_content='This code prints the result of a translation, which is a Spanish sentence.'),\n",
       " Document(metadata={'cell_number': 16, 'cell_title': 'Generat the English to Spanish translation using IBM `granite-20b-multilingual` model.', 'code_with_description': '```python\\ntranslation_result = model.generate_text(english_to_spanish_query)\\n```', 'import_statements': 'from ibm_watsonx_ai.metanames import GenTextParamsMetaNames as GenParams\\nfrom ibm_watsonx_ai.foundation_models import ModelInference\\nimport os\\nfrom ibm_watsonx_ai.foundation_models import get_model_specs\\nimport getpass\\nfrom ibm_watsonx_ai.foundation_models.utils.enums import DecodingMethods', 'notebook_fullpath': 'https://github.com/IBM/watson-machine-learning-samples/blob/master/cloud/notebooks/python_sdk/deployments/foundation_models/Use watsonx, and `granite-20b-multilingual` to support multiple languages translation.ipynb', 'notebook_name': 'Use watsonx, and `granite-20b-multilingual` to support multiple languages translation.ipynb', 'notebook_summary': 'This Jupyter notebook demonstrates how to translate multiple languages using the IBM `granite-20b-multilingual` model on the Watsonx platform. The primary objective is to provide a step-by-step guide on translating text based on user queries, utilizing the capabilities of the IBM model that supports English, German, Spanish, French, and Portuguese languages. The notebook covers setting up the environment and showcasing foundation models on Watsonx, followed by the actual translation process and a summary of the implemented functionality.', 'product': 'watsonx.ai', 'python_code': 'translation_result = model.generate_text(english_to_spanish_query)', 'repository_name': 'watson-machine-learning-samples', 'version': 'cloud'}, page_content='This code generates Spanish text from an English query using a translation model.'),\n",
       " Document(metadata={'cell_number': 20, 'cell_title': 'Translation result', 'code_with_description': '```python\\nprint(translation_result)\\n```  \\nOutput: Si nous ne faisons pas un usage beaucoup plus important de la technologie intelligente, nous ne parviendrons pas à atteindre nos objectifs.  \\n<a id=\"summary\"></a>', 'import_statements': 'from ibm_watsonx_ai.metanames import GenTextParamsMetaNames as GenParams\\nfrom ibm_watsonx_ai.foundation_models import ModelInference\\nimport os\\nfrom ibm_watsonx_ai.foundation_models import get_model_specs\\nimport getpass\\nfrom ibm_watsonx_ai.foundation_models.utils.enums import DecodingMethods', 'notebook_fullpath': 'https://github.com/IBM/watson-machine-learning-samples/blob/master/cloud/notebooks/python_sdk/deployments/foundation_models/Use watsonx, and `granite-20b-multilingual` to support multiple languages translation.ipynb', 'notebook_name': 'Use watsonx, and `granite-20b-multilingual` to support multiple languages translation.ipynb', 'notebook_summary': 'This Jupyter notebook demonstrates how to translate multiple languages using the IBM `granite-20b-multilingual` model on the Watsonx platform. The primary objective is to provide a step-by-step guide on translating text based on user queries, utilizing the capabilities of the IBM model that supports English, German, Spanish, French, and Portuguese languages. The notebook covers setting up the environment and showcasing foundation models on Watsonx, followed by the actual translation process and a summary of the implemented functionality.', 'product': 'watsonx.ai', 'python_code': 'print(translation_result)', 'repository_name': 'watson-machine-learning-samples', 'version': 'cloud'}, page_content='The code prints a French translation result.\\U000e0067\\U000e0062\\U000e0065\\U000e006e\\U000e0067\\U000e007f')]"
      ]
     },
     "execution_count": 12,
     "metadata": {},
     "output_type": "execute_result"
    }
   ],
   "source": [
    "docs"
   ]
  },
  {
   "cell_type": "code",
   "execution_count": null,
   "metadata": {},
   "outputs": [],
   "source": []
  }
 ],
 "metadata": {
  "kernelspec": {
   "display_name": "lang_venv",
   "language": "python",
   "name": "python3"
  },
  "language_info": {
   "codemirror_mode": {
    "name": "ipython",
    "version": 3
   },
   "file_extension": ".py",
   "mimetype": "text/x-python",
   "name": "python",
   "nbconvert_exporter": "python",
   "pygments_lexer": "ipython3",
   "version": "3.12.3"
  }
 },
 "nbformat": 4,
 "nbformat_minor": 2
}
